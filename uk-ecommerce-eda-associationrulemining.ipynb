{
 "cells": [
  {
   "cell_type": "code",
   "execution_count": 1,
   "id": "rotary-henry",
   "metadata": {
    "_cell_guid": "b1076dfc-b9ad-4769-8c92-a6c4dae69d19",
    "_uuid": "8f2839f25d086af736a60e9eeb907d3b93b6e0e5",
    "execution": {
     "iopub.execute_input": "2021-05-28T17:58:15.539453Z",
     "iopub.status.busy": "2021-05-28T17:58:15.538836Z",
     "iopub.status.idle": "2021-05-28T17:58:15.550995Z",
     "shell.execute_reply": "2021-05-28T17:58:15.551409Z",
     "shell.execute_reply.started": "2021-05-28T13:32:57.109266Z"
    },
    "papermill": {
     "duration": 0.0447,
     "end_time": "2021-05-28T17:58:15.551680",
     "exception": false,
     "start_time": "2021-05-28T17:58:15.506980",
     "status": "completed"
    },
    "tags": []
   },
   "outputs": [
    {
     "name": "stdout",
     "output_type": "stream",
     "text": [
      "/kaggle/input/ecommerce-data/data.csv\n"
     ]
    }
   ],
   "source": [
    "# This Python 3 environment comes with many helpful analytics libraries installed\n",
    "# It is defined by the kaggle/python Docker image: https://github.com/kaggle/docker-python\n",
    "# For example, here's several helpful packages to load\n",
    "\n",
    "import numpy as np # linear algebra\n",
    "import pandas as pd # data processing, CSV file I/O (e.g. pd.read_csv)\n",
    "\n",
    "# Input data files are available in the read-only \"../input/\" directory\n",
    "# For example, running this (by clicking run or pressing Shift+Enter) will list all files under the input directory\n",
    "\n",
    "import os\n",
    "for dirname, _, filenames in os.walk('/kaggle/input'):\n",
    "    for filename in filenames:\n",
    "        print(os.path.join(dirname, filename))\n",
    "\n",
    "# You can write up to 20GB to the current directory (/kaggle/working/) that gets preserved as output when you create a version using \"Save & Run All\" \n",
    "# You can also write temporary files to /kaggle/temp/, but they won't be saved outside of the current session"
   ]
  },
  {
   "cell_type": "markdown",
   "id": "acquired-lingerie",
   "metadata": {
    "papermill": {
     "duration": 0.021056,
     "end_time": "2021-05-28T17:58:15.594757",
     "exception": false,
     "start_time": "2021-05-28T17:58:15.573701",
     "status": "completed"
    },
    "tags": []
   },
   "source": [
    "# A foreword\n",
    "\n",
    "Typically e-commerce datasets are proprietary and consequently hard to find among publicly available data. However, The [UCI Machine Learning Repository](http://archive.ics.uci.edu/ml/index.php) has made this dataset containing actual transactions from 2010 and 2011. The dataset is maintained on their site, where it can be found by the title \"Online Retail\".\n",
    "\n",
    "**Content**\n",
    "\"This is a transnational data set which contains all the transactions occurring between 01/12/2010 and 09/12/2011 for a UK-based and registered non-store online retail.The company mainly sells unique all-occasion gifts. Many customers of the company are wholesalers.\"\n",
    "\n",
    "**Acknowledgements**\n",
    "Per the UCI Machine Learning Repository, this data was made available by Dr Daqing Chen, Director: Public Analytics group. chend '@' lsbu.ac.uk, School of Engineering, London South Bank University, London SE1 0AA, UK."
   ]
  },
  {
   "cell_type": "markdown",
   "id": "starting-wrong",
   "metadata": {
    "papermill": {
     "duration": 0.021189,
     "end_time": "2021-05-28T17:58:15.637504",
     "exception": false,
     "start_time": "2021-05-28T17:58:15.616315",
     "status": "completed"
    },
    "tags": []
   },
   "source": [
    "# EDA - Exploratory Data Analysis"
   ]
  },
  {
   "cell_type": "code",
   "execution_count": 2,
   "id": "spare-china",
   "metadata": {
    "execution": {
     "iopub.execute_input": "2021-05-28T17:58:15.684958Z",
     "iopub.status.busy": "2021-05-28T17:58:15.684402Z",
     "iopub.status.idle": "2021-05-28T17:58:17.550219Z",
     "shell.execute_reply": "2021-05-28T17:58:17.549588Z",
     "shell.execute_reply.started": "2021-05-28T13:32:57.165792Z"
    },
    "papermill": {
     "duration": 1.891326,
     "end_time": "2021-05-28T17:58:17.550353",
     "exception": false,
     "start_time": "2021-05-28T17:58:15.659027",
     "status": "completed"
    },
    "tags": []
   },
   "outputs": [],
   "source": [
    "import pandas as pd\n",
    "import numpy as np\n",
    "\n",
    "import pandas_profiling as pp\n",
    "\n",
    "import matplotlib.pyplot as plt\n",
    "import seaborn as sns\n",
    "import plotly as ply"
   ]
  },
  {
   "cell_type": "markdown",
   "id": "experimental-harvey",
   "metadata": {
    "papermill": {
     "duration": 0.021245,
     "end_time": "2021-05-28T17:58:17.593512",
     "exception": false,
     "start_time": "2021-05-28T17:58:17.572267",
     "status": "completed"
    },
    "tags": []
   },
   "source": [
    "**Read in the data**"
   ]
  },
  {
   "cell_type": "code",
   "execution_count": 3,
   "id": "sweet-drunk",
   "metadata": {
    "execution": {
     "iopub.execute_input": "2021-05-28T17:58:17.641405Z",
     "iopub.status.busy": "2021-05-28T17:58:17.640786Z",
     "iopub.status.idle": "2021-05-28T17:58:18.639041Z",
     "shell.execute_reply": "2021-05-28T17:58:18.638592Z",
     "shell.execute_reply.started": "2021-05-28T13:32:59.203564Z"
    },
    "papermill": {
     "duration": 1.024198,
     "end_time": "2021-05-28T17:58:18.639207",
     "exception": false,
     "start_time": "2021-05-28T17:58:17.615009",
     "status": "completed"
    },
    "tags": []
   },
   "outputs": [],
   "source": [
    "dat = pd.read_csv('../input/ecommerce-data/data.csv')"
   ]
  },
  {
   "cell_type": "code",
   "execution_count": 4,
   "id": "boolean-notice",
   "metadata": {
    "execution": {
     "iopub.execute_input": "2021-05-28T17:58:18.694782Z",
     "iopub.status.busy": "2021-05-28T17:58:18.694200Z",
     "iopub.status.idle": "2021-05-28T17:58:18.907129Z",
     "shell.execute_reply": "2021-05-28T17:58:18.906640Z",
     "shell.execute_reply.started": "2021-05-28T13:33:00.401241Z"
    },
    "papermill": {
     "duration": 0.246371,
     "end_time": "2021-05-28T17:58:18.907267",
     "exception": false,
     "start_time": "2021-05-28T17:58:18.660896",
     "status": "completed"
    },
    "tags": []
   },
   "outputs": [
    {
     "name": "stdout",
     "output_type": "stream",
     "text": [
      "<class 'pandas.core.frame.DataFrame'>\n",
      "RangeIndex: 541909 entries, 0 to 541908\n",
      "Data columns (total 8 columns):\n",
      " #   Column       Non-Null Count   Dtype  \n",
      "---  ------       --------------   -----  \n",
      " 0   InvoiceNo    541909 non-null  object \n",
      " 1   StockCode    541909 non-null  object \n",
      " 2   Description  540455 non-null  object \n",
      " 3   Quantity     541909 non-null  int64  \n",
      " 4   InvoiceDate  541909 non-null  object \n",
      " 5   UnitPrice    541909 non-null  float64\n",
      " 6   CustomerID   406829 non-null  float64\n",
      " 7   Country      541909 non-null  object \n",
      "dtypes: float64(2), int64(1), object(5)\n",
      "memory usage: 33.1+ MB\n",
      "None \n",
      "\n",
      "            Quantity      UnitPrice     CustomerID\n",
      "count  541909.000000  541909.000000  406829.000000\n",
      "mean        9.552250       4.611114   15287.690570\n",
      "std       218.081158      96.759853    1713.600303\n",
      "min    -80995.000000  -11062.060000   12346.000000\n",
      "25%         1.000000       1.250000   13953.000000\n",
      "50%         3.000000       2.080000   15152.000000\n",
      "75%        10.000000       4.130000   16791.000000\n",
      "max     80995.000000   38970.000000   18287.000000 \n",
      "\n",
      "       InvoiceNo StockCode                     Description  Quantity  \\\n",
      "287145    562085    85049G          CHOCOLATE BOX RIBBONS         12   \n",
      "285344    561900     21975  PACK OF 60 DINOSAUR CAKE CASES         3   \n",
      "110574    545690     21071  VINTAGE BILLBOARD DRINK ME MUG         2   \n",
      "10797     537237     90062               CARNIVAL BRACELET         1   \n",
      "126150    547064     22823   CHEST NATURAL WOOD 20 DRAWERS         1   \n",
      "\n",
      "            InvoiceDate  UnitPrice  CustomerID         Country  \n",
      "287145   8/2/2011 12:27       1.25     15228.0  United Kingdom  \n",
      "285344  7/31/2011 15:31       0.55     16655.0  United Kingdom  \n",
      "110574   3/6/2011 12:46       1.25     13263.0  United Kingdom  \n",
      "10797    12/6/2010 9:58      12.75         NaN  United Kingdom  \n",
      "126150  3/20/2011 13:38     125.00     16096.0  United Kingdom   \n",
      "\n"
     ]
    }
   ],
   "source": [
    "print(dat.info(),'\\n')\n",
    "print(dat.describe(),'\\n')\n",
    "print(dat.sample(5),'\\n')"
   ]
  },
  {
   "cell_type": "markdown",
   "id": "exceptional-venture",
   "metadata": {
    "papermill": {
     "duration": 0.022425,
     "end_time": "2021-05-28T17:58:18.951993",
     "exception": false,
     "start_time": "2021-05-28T17:58:18.929568",
     "status": "completed"
    },
    "tags": []
   },
   "source": [
    "**Measure non-null and unique entries per column**"
   ]
  },
  {
   "cell_type": "code",
   "execution_count": 5,
   "id": "computational-reservoir",
   "metadata": {
    "execution": {
     "iopub.execute_input": "2021-05-28T17:58:19.022115Z",
     "iopub.status.busy": "2021-05-28T17:58:19.021237Z",
     "iopub.status.idle": "2021-05-28T17:58:19.562370Z",
     "shell.execute_reply": "2021-05-28T17:58:19.562782Z",
     "shell.execute_reply.started": "2021-05-28T13:33:00.775648Z"
    },
    "papermill": {
     "duration": 0.588732,
     "end_time": "2021-05-28T17:58:19.562939",
     "exception": false,
     "start_time": "2021-05-28T17:58:18.974207",
     "status": "completed"
    },
    "tags": []
   },
   "outputs": [
    {
     "name": "stdout",
     "output_type": "stream",
     "text": [
      "              #Null  %Null  #Unique  %Unique\n",
      "InvoiceNo         0    0.0    25900      4.8\n",
      "StockCode         0    0.0     4070      0.8\n",
      "Description    1454    0.3     4224      0.8\n",
      "Quantity          0    0.0      722      0.1\n",
      "InvoiceDate       0    0.0    23260      4.3\n",
      "UnitPrice         0    0.0     1630      0.3\n",
      "CustomerID   135080   24.9     4373      0.8\n",
      "Country           0    0.0       38      0.0\n"
     ]
    }
   ],
   "source": [
    "colstats = {}\n",
    "for col in dat.columns:\n",
    "#     print(\"{} has  {}  null entries ({:.1f}%) and  {}  unique entries ({:.1f}%)\".format(col,\n",
    "#                 dat[col].isnull().sum(),dat[col].isnull().sum()*100/dat.shape[0],\n",
    "#                 len(dat[col].unique()),len(dat[col].unique())*100/dat.shape[0]))\n",
    "    colstats[col] = [dat[col].isnull().sum(),dat[col].isnull().sum()*100/dat.shape[0],\n",
    "                len(dat[col].unique()),len(dat[col].unique())*100/dat.shape[0]] \n",
    "    \n",
    "stats_col = pd.DataFrame(colstats.values(), index = colstats.keys(),  columns = ['#Null','%Null','#Unique','%Unique'])\n",
    "pd.set_option('precision',2)\n",
    "pd.set_option('display.float_format', lambda x: '%.1f' % x)\n",
    "print(stats_col)"
   ]
  },
  {
   "cell_type": "markdown",
   "id": "naked-works",
   "metadata": {
    "papermill": {
     "duration": 0.021844,
     "end_time": "2021-05-28T17:58:19.606853",
     "exception": false,
     "start_time": "2021-05-28T17:58:19.585009",
     "status": "completed"
    },
    "tags": []
   },
   "source": [
    "Based on the table above, 25% of the data are missing CustomerID. All rows with missing Description have missing CustomerID as well."
   ]
  },
  {
   "cell_type": "code",
   "execution_count": 6,
   "id": "temporal-olympus",
   "metadata": {
    "execution": {
     "iopub.execute_input": "2021-05-28T17:58:19.674466Z",
     "iopub.status.busy": "2021-05-28T17:58:19.673653Z",
     "iopub.status.idle": "2021-05-28T17:58:19.687340Z",
     "shell.execute_reply": "2021-05-28T17:58:19.687719Z",
     "shell.execute_reply.started": "2021-05-28T13:33:01.727566Z"
    },
    "papermill": {
     "duration": 0.058927,
     "end_time": "2021-05-28T17:58:19.687881",
     "exception": false,
     "start_time": "2021-05-28T17:58:19.628954",
     "status": "completed"
    },
    "tags": []
   },
   "outputs": [
    {
     "name": "stdout",
     "output_type": "stream",
     "text": [
      "<class 'pandas.core.frame.DataFrame'>\n",
      "Int64Index: 1454 entries, 622 to 538554\n",
      "Data columns (total 8 columns):\n",
      " #   Column       Non-Null Count  Dtype  \n",
      "---  ------       --------------  -----  \n",
      " 0   InvoiceNo    1454 non-null   object \n",
      " 1   StockCode    1454 non-null   object \n",
      " 2   Description  0 non-null      object \n",
      " 3   Quantity     1454 non-null   int64  \n",
      " 4   InvoiceDate  1454 non-null   object \n",
      " 5   UnitPrice    1454 non-null   float64\n",
      " 6   CustomerID   0 non-null      float64\n",
      " 7   Country      1454 non-null   object \n",
      "dtypes: float64(2), int64(1), object(5)\n",
      "memory usage: 102.2+ KB\n",
      "None\n"
     ]
    }
   ],
   "source": [
    "temp = dat[dat.Description.isnull()].copy()\n",
    "print(temp.info())"
   ]
  },
  {
   "cell_type": "markdown",
   "id": "corporate-utilization",
   "metadata": {
    "papermill": {
     "duration": 0.022724,
     "end_time": "2021-05-28T17:58:19.733422",
     "exception": false,
     "start_time": "2021-05-28T17:58:19.710698",
     "status": "completed"
    },
    "tags": []
   },
   "source": [
    "**Orders by country**"
   ]
  },
  {
   "cell_type": "code",
   "execution_count": 7,
   "id": "funny-philosophy",
   "metadata": {
    "execution": {
     "iopub.execute_input": "2021-05-28T17:58:19.796776Z",
     "iopub.status.busy": "2021-05-28T17:58:19.796131Z",
     "iopub.status.idle": "2021-05-28T17:58:20.649678Z",
     "shell.execute_reply": "2021-05-28T17:58:20.650050Z",
     "shell.execute_reply.started": "2021-05-28T13:33:01.794493Z"
    },
    "papermill": {
     "duration": 0.893906,
     "end_time": "2021-05-28T17:58:20.650245",
     "exception": false,
     "start_time": "2021-05-28T17:58:19.756339",
     "status": "completed"
    },
    "tags": []
   },
   "outputs": [
    {
     "data": {
      "text/html": [
       "<div>\n",
       "<style scoped>\n",
       "    .dataframe tbody tr th:only-of-type {\n",
       "        vertical-align: middle;\n",
       "    }\n",
       "\n",
       "    .dataframe tbody tr th {\n",
       "        vertical-align: top;\n",
       "    }\n",
       "\n",
       "    .dataframe thead th {\n",
       "        text-align: right;\n",
       "    }\n",
       "</style>\n",
       "<table border=\"1\" class=\"dataframe\">\n",
       "  <thead>\n",
       "    <tr style=\"text-align: right;\">\n",
       "      <th></th>\n",
       "      <th>sum</th>\n",
       "    </tr>\n",
       "    <tr>\n",
       "      <th>Country</th>\n",
       "      <th></th>\n",
       "    </tr>\n",
       "  </thead>\n",
       "  <tbody>\n",
       "    <tr>\n",
       "      <th>United Kingdom</th>\n",
       "      <td>4263829</td>\n",
       "    </tr>\n",
       "    <tr>\n",
       "      <th>Netherlands</th>\n",
       "      <td>200128</td>\n",
       "    </tr>\n",
       "    <tr>\n",
       "      <th>EIRE</th>\n",
       "      <td>142637</td>\n",
       "    </tr>\n",
       "    <tr>\n",
       "      <th>Germany</th>\n",
       "      <td>117448</td>\n",
       "    </tr>\n",
       "    <tr>\n",
       "      <th>France</th>\n",
       "      <td>110480</td>\n",
       "    </tr>\n",
       "  </tbody>\n",
       "</table>\n",
       "</div>"
      ],
      "text/plain": [
       "                    sum\n",
       "Country                \n",
       "United Kingdom  4263829\n",
       "Netherlands      200128\n",
       "EIRE             142637\n",
       "Germany          117448\n",
       "France           110480"
      ]
     },
     "execution_count": 7,
     "metadata": {},
     "output_type": "execute_result"
    },
    {
     "data": {
      "image/png": "[encoded data removed]",
      "text/plain": [
       "<Figure size 1440x360 with 1 Axes>"
      ]
     },
     "metadata": {
      "needs_background": "light"
     },
     "output_type": "display_data"
    }
   ],
   "source": [
    "# orders by country\n",
    "fig,ax = plt.subplots(1,1,figsize=(20,5))\n",
    "stats_country = dat.groupby(['Country']).Quantity.agg([np.sum])\n",
    "stats_country.sort_values(by='sum',ascending=False).plot(kind='bar',ax=ax).set_title('Count of orders by country')\n",
    "plt.yscale(\"log\")\n",
    "plt.grid()\n",
    "\n",
    "stats_country.sort_values(by='sum',ascending=False).head()"
   ]
  },
  {
   "cell_type": "code",
   "execution_count": 8,
   "id": "rising-authority",
   "metadata": {
    "execution": {
     "iopub.execute_input": "2021-05-28T17:58:20.726389Z",
     "iopub.status.busy": "2021-05-28T17:58:20.725769Z",
     "iopub.status.idle": "2021-05-28T17:58:21.668322Z",
     "shell.execute_reply": "2021-05-28T17:58:21.667797Z",
     "shell.execute_reply.started": "2021-05-28T13:33:02.918202Z"
    },
    "papermill": {
     "duration": 0.993044,
     "end_time": "2021-05-28T17:58:21.668468",
     "exception": false,
     "start_time": "2021-05-28T17:58:20.675424",
     "status": "completed"
    },
    "tags": []
   },
   "outputs": [
    {
     "data": {
      "text/html": [
       "<div>\n",
       "<style scoped>\n",
       "    .dataframe tbody tr th:only-of-type {\n",
       "        vertical-align: middle;\n",
       "    }\n",
       "\n",
       "    .dataframe tbody tr th {\n",
       "        vertical-align: top;\n",
       "    }\n",
       "\n",
       "    .dataframe thead th {\n",
       "        text-align: right;\n",
       "    }\n",
       "</style>\n",
       "<table border=\"1\" class=\"dataframe\">\n",
       "  <thead>\n",
       "    <tr style=\"text-align: right;\">\n",
       "      <th></th>\n",
       "      <th>sum</th>\n",
       "      <th>mean</th>\n",
       "    </tr>\n",
       "    <tr>\n",
       "      <th>Country</th>\n",
       "      <th></th>\n",
       "      <th></th>\n",
       "    </tr>\n",
       "  </thead>\n",
       "  <tbody>\n",
       "    <tr>\n",
       "      <th>Netherlands</th>\n",
       "      <td>284661.5</td>\n",
       "      <td>120.1</td>\n",
       "    </tr>\n",
       "    <tr>\n",
       "      <th>Australia</th>\n",
       "      <td>137077.3</td>\n",
       "      <td>108.9</td>\n",
       "    </tr>\n",
       "    <tr>\n",
       "      <th>Japan</th>\n",
       "      <td>35340.6</td>\n",
       "      <td>98.7</td>\n",
       "    </tr>\n",
       "    <tr>\n",
       "      <th>Sweden</th>\n",
       "      <td>36595.9</td>\n",
       "      <td>79.2</td>\n",
       "    </tr>\n",
       "    <tr>\n",
       "      <th>Denmark</th>\n",
       "      <td>18768.1</td>\n",
       "      <td>48.2</td>\n",
       "    </tr>\n",
       "  </tbody>\n",
       "</table>\n",
       "</div>"
      ],
      "text/plain": [
       "                 sum  mean\n",
       "Country                   \n",
       "Netherlands 284661.5 120.1\n",
       "Australia   137077.3 108.9\n",
       "Japan        35340.6  98.7\n",
       "Sweden       36595.9  79.2\n",
       "Denmark      18768.1  48.2"
      ]
     },
     "execution_count": 8,
     "metadata": {},
     "output_type": "execute_result"
    },
    {
     "data": {
      "image/png": "[encoded data removed]",
      "text/plain": [
       "<Figure size 1440x360 with 1 Axes>"
      ]
     },
     "metadata": {
      "needs_background": "light"
     },
     "output_type": "display_data"
    }
   ],
   "source": [
    "fig,ax = plt.subplots(1,1,figsize=(20,5))\n",
    "temp = dat.copy()\n",
    "temp['Value'] = temp['Quantity']*temp['UnitPrice']\n",
    "stats_country = temp.groupby(['Country']).Value.agg([np.sum, np.mean])\n",
    "stats_country.sort_values(by='sum',ascending=False).plot(kind='bar',ax=ax).set_title('Value of orders by country')\n",
    "plt.yscale(\"log\")\n",
    "plt.grid()\n",
    "\n",
    "stats_country.sort_values(by='mean',ascending=False).head()"
   ]
  },
  {
   "cell_type": "code",
   "execution_count": 9,
   "id": "strange-spanish",
   "metadata": {
    "execution": {
     "iopub.execute_input": "2021-05-28T17:58:21.723521Z",
     "iopub.status.busy": "2021-05-28T17:58:21.722696Z",
     "iopub.status.idle": "2021-05-28T17:58:21.725485Z",
     "shell.execute_reply": "2021-05-28T17:58:21.725011Z",
     "shell.execute_reply.started": "2021-05-28T13:33:04.090414Z"
    },
    "papermill": {
     "duration": 0.03119,
     "end_time": "2021-05-28T17:58:21.725608",
     "exception": false,
     "start_time": "2021-05-28T17:58:21.694418",
     "status": "completed"
    },
    "tags": []
   },
   "outputs": [],
   "source": [
    "# Just a check to make sure that what the above cell is doing is right ...\n",
    "# xx = temp[temp.Country.str.contains('United Kingdom')].copy()\n",
    "# print(xx.Quantity.sum(), xx.Value.sum(), xx.Value.mean())"
   ]
  },
  {
   "cell_type": "markdown",
   "id": "radical-committee",
   "metadata": {
    "papermill": {
     "duration": 0.025251,
     "end_time": "2021-05-28T17:58:21.776140",
     "exception": false,
     "start_time": "2021-05-28T17:58:21.750889",
     "status": "completed"
    },
    "tags": []
   },
   "source": [
    "**Customer ID to country**"
   ]
  },
  {
   "cell_type": "code",
   "execution_count": 10,
   "id": "impossible-premises",
   "metadata": {
    "execution": {
     "iopub.execute_input": "2021-05-28T17:58:21.830957Z",
     "iopub.status.busy": "2021-05-28T17:58:21.830404Z",
     "iopub.status.idle": "2021-05-28T17:58:22.692181Z",
     "shell.execute_reply": "2021-05-28T17:58:22.691549Z",
     "shell.execute_reply.started": "2021-05-28T13:33:04.095748Z"
    },
    "papermill": {
     "duration": 0.89126,
     "end_time": "2021-05-28T17:58:22.692311",
     "exception": false,
     "start_time": "2021-05-28T17:58:21.801051",
     "status": "completed"
    },
    "tags": []
   },
   "outputs": [
    {
     "name": "stdout",
     "output_type": "stream",
     "text": [
      "12370.0 ['Cyprus' 'Austria']\n",
      "12394.0 ['Belgium' 'Denmark']\n",
      "12417.0 ['Belgium' 'Spain']\n",
      "12422.0 ['Australia' 'Switzerland']\n",
      "12429.0 ['Denmark' 'Austria']\n",
      "12431.0 ['Australia' 'Belgium']\n",
      "12455.0 ['Cyprus' 'Spain']\n",
      "12457.0 ['Switzerland' 'Cyprus']\n"
     ]
    }
   ],
   "source": [
    "stats_cust = dat.groupby(['CustomerID'])\n",
    "for key,value in stats_cust:\n",
    "    if len(value.Country.unique()) > 1:\n",
    "        print(key, value.Country.unique())"
   ]
  },
  {
   "cell_type": "markdown",
   "id": "north-liberal",
   "metadata": {
    "papermill": {
     "duration": 0.026367,
     "end_time": "2021-05-28T17:58:22.744678",
     "exception": false,
     "start_time": "2021-05-28T17:58:22.718311",
     "status": "completed"
    },
    "tags": []
   },
   "source": [
    "The list of customers above seems to have placed orders from multiple countries. For others, there is a 1-to-1 mapping between customer and country."
   ]
  },
  {
   "cell_type": "markdown",
   "id": "brief-solomon",
   "metadata": {
    "papermill": {
     "duration": 0.024816,
     "end_time": "2021-05-28T17:58:22.794604",
     "exception": false,
     "start_time": "2021-05-28T17:58:22.769788",
     "status": "completed"
    },
    "tags": []
   },
   "source": [
    "**Stock code to description**"
   ]
  },
  {
   "cell_type": "code",
   "execution_count": 11,
   "id": "massive-massachusetts",
   "metadata": {
    "execution": {
     "iopub.execute_input": "2021-05-28T17:58:22.857186Z",
     "iopub.status.busy": "2021-05-28T17:58:22.856598Z",
     "iopub.status.idle": "2021-05-28T17:58:23.105880Z",
     "shell.execute_reply": "2021-05-28T17:58:23.105336Z",
     "shell.execute_reply.started": "2021-05-28T13:33:05.074197Z"
    },
    "papermill": {
     "duration": 0.286266,
     "end_time": "2021-05-28T17:58:23.106015",
     "exception": false,
     "start_time": "2021-05-28T17:58:22.819749",
     "status": "completed"
    },
    "tags": []
   },
   "outputs": [
    {
     "name": "stdout",
     "output_type": "stream",
     "text": [
      "10002\n",
      "31        INFLATABLE POLITICAL GLOBE \n",
      "142       INFLATABLE POLITICAL GLOBE \n",
      "4272      INFLATABLE POLITICAL GLOBE \n",
      "5466      INFLATABLE POLITICAL GLOBE \n",
      "5546      INFLATABLE POLITICAL GLOBE \n",
      "                     ...             \n",
      "143465    INFLATABLE POLITICAL GLOBE \n",
      "143930    INFLATABLE POLITICAL GLOBE \n",
      "158070    INFLATABLE POLITICAL GLOBE \n",
      "160128    INFLATABLE POLITICAL GLOBE \n",
      "171573                            NaN\n",
      "Name: Description, Length: 73, dtype: object\n",
      "10080\n",
      "103332    GROOVY CACTUS INFLATABLE\n",
      "234546    GROOVY CACTUS INFLATABLE\n",
      "245552    GROOVY CACTUS INFLATABLE\n",
      "249766    GROOVY CACTUS INFLATABLE\n",
      "279310                         NaN\n",
      "279438    GROOVY CACTUS INFLATABLE\n",
      "285791    GROOVY CACTUS INFLATABLE\n",
      "286814    GROOVY CACTUS INFLATABLE\n",
      "287990    GROOVY CACTUS INFLATABLE\n",
      "309221    GROOVY CACTUS INFLATABLE\n",
      "327182    GROOVY CACTUS INFLATABLE\n",
      "330669    GROOVY CACTUS INFLATABLE\n",
      "346729    GROOVY CACTUS INFLATABLE\n",
      "361806    GROOVY CACTUS INFLATABLE\n",
      "388869    GROOVY CACTUS INFLATABLE\n",
      "395806    GROOVY CACTUS INFLATABLE\n",
      "417074    GROOVY CACTUS INFLATABLE\n",
      "434271    GROOVY CACTUS INFLATABLE\n",
      "454350                       check\n",
      "460365    GROOVY CACTUS INFLATABLE\n",
      "464445    GROOVY CACTUS INFLATABLE\n",
      "480383    GROOVY CACTUS INFLATABLE\n",
      "487604    GROOVY CACTUS INFLATABLE\n",
      "488216    GROOVY CACTUS INFLATABLE\n",
      "Name: Description, dtype: object\n"
     ]
    }
   ],
   "source": [
    "stats_stock = dat.groupby(['StockCode'])\n",
    "counter = 0\n",
    "for key, value in stats_stock:\n",
    "    if counter < 2:\n",
    "        print(key)\n",
    "        print(value.Description)\n",
    "        counter += 1"
   ]
  },
  {
   "cell_type": "markdown",
   "id": "corresponding-scotland",
   "metadata": {
    "papermill": {
     "duration": 0.025546,
     "end_time": "2021-05-28T17:58:23.157361",
     "exception": false,
     "start_time": "2021-05-28T17:58:23.131815",
     "status": "completed"
    },
    "tags": []
   },
   "source": [
    "The above analysis suggests that stockcode is uniquely mapped to the Description. If one were to use Description in the analysis and modeling, we can use StockCode to imput missing values. Alternately, in this case, I plan to drop Description in favor of using StockCode in any subsequent modeling I intend to do."
   ]
  },
  {
   "cell_type": "markdown",
   "id": "breeding-europe",
   "metadata": {
    "papermill": {
     "duration": 0.025318,
     "end_time": "2021-05-28T17:58:23.207995",
     "exception": false,
     "start_time": "2021-05-28T17:58:23.182677",
     "status": "completed"
    },
    "tags": []
   },
   "source": [
    "**Invoice number to date/time**"
   ]
  },
  {
   "cell_type": "code",
   "execution_count": 12,
   "id": "gothic-motivation",
   "metadata": {
    "execution": {
     "iopub.execute_input": "2021-05-28T17:58:23.277276Z",
     "iopub.status.busy": "2021-05-28T17:58:23.276645Z",
     "iopub.status.idle": "2021-05-28T17:58:27.937046Z",
     "shell.execute_reply": "2021-05-28T17:58:27.936589Z",
     "shell.execute_reply.started": "2021-05-28T13:33:05.400041Z"
    },
    "papermill": {
     "duration": 4.70367,
     "end_time": "2021-05-28T17:58:27.937204",
     "exception": false,
     "start_time": "2021-05-28T17:58:23.233534",
     "status": "completed"
    },
    "tags": []
   },
   "outputs": [
    {
     "name": "stdout",
     "output_type": "stream",
     "text": [
      "536591 ['12/1/2010 16:57' '12/1/2010 16:58']\n",
      "540185 ['1/5/2011 13:40' '1/5/2011 13:41']\n",
      "541596 ['1/19/2011 16:18' '1/19/2011 16:19']\n",
      "541631 ['1/20/2011 10:47' '1/20/2011 10:48']\n",
      "541809 ['1/21/2011 14:58' '1/21/2011 14:59']\n",
      "541816 ['1/21/2011 15:56' '1/21/2011 15:57']\n",
      "541849 ['1/23/2011 13:33' '1/23/2011 13:34']\n",
      "542217 ['1/26/2011 12:35' '1/26/2011 12:36']\n",
      "542806 ['2/1/2011 11:19' '2/1/2011 11:20']\n",
      "543171 ['2/4/2011 9:10' '2/4/2011 9:11']\n",
      "543179 ['2/4/2011 10:31' '2/4/2011 10:32']\n",
      "543182 ['2/4/2011 10:39' '2/4/2011 10:40']\n",
      "543777 ['2/11/2011 16:19' '2/11/2011 16:20']\n",
      "544186 ['2/16/2011 15:55' '2/16/2011 15:56']\n",
      "544667 ['2/22/2011 15:09' '2/22/2011 15:10']\n",
      "544926 ['2/24/2011 17:50' '2/24/2011 17:51']\n",
      "545460 ['3/2/2011 17:32' '3/2/2011 17:33']\n",
      "545713 ['3/7/2011 10:11' '3/7/2011 10:12']\n",
      "546388 ['3/11/2011 13:42' '3/11/2011 13:43']\n",
      "546986 ['3/18/2011 12:55' '3/18/2011 12:56']\n",
      "547690 ['3/24/2011 14:55' '3/24/2011 14:56']\n",
      "548203 ['3/29/2011 16:40' '3/29/2011 16:41']\n",
      "549245 ['4/7/2011 11:59' '4/7/2011 12:00']\n",
      "549524 ['4/8/2011 15:41' '4/8/2011 15:42']\n",
      "550320 ['4/17/2011 12:37' '4/17/2011 12:38']\n",
      "550333 ['4/17/2011 14:05' '4/17/2011 14:06']\n",
      "550641 ['4/19/2011 15:53' '4/19/2011 15:54']\n",
      "550645 ['4/19/2011 16:30' '4/19/2011 16:31']\n",
      "552000 ['5/5/2011 15:55' '5/5/2011 15:56']\n",
      "553199 ['5/15/2011 15:13' '5/15/2011 15:14']\n",
      "553375 ['5/16/2011 14:52' '5/16/2011 14:53']\n",
      "553556 ['5/17/2011 16:48' '5/17/2011 16:49']\n",
      "554116 ['5/22/2011 15:11' '5/22/2011 15:12']\n",
      "558086 ['6/26/2011 11:58' '6/26/2011 11:59']\n",
      "561369 ['7/26/2011 16:21' '7/26/2011 16:22']\n",
      "562128 ['8/3/2011 9:06' '8/3/2011 9:07']\n",
      "563245 ['8/15/2011 10:53' '8/15/2011 10:54']\n",
      "567183 ['9/18/2011 15:32' '9/18/2011 15:33']\n",
      "571735 ['10/19/2011 10:03' '10/19/2011 10:04']\n",
      "574076 ['11/2/2011 15:37' '11/2/2011 15:38']\n",
      "576057 ['11/13/2011 15:05' '11/13/2011 15:06']\n",
      "578548 ['11/24/2011 15:02' '11/24/2011 15:03']\n",
      "C545569 ['3/3/2011 16:25' '3/3/2011 16:26']\n"
     ]
    }
   ],
   "source": [
    "temp = dat.groupby(['InvoiceNo'])\n",
    "for key,value in temp:\n",
    "    if len(value.InvoiceDate.unique()) > 1:\n",
    "        print(key, value.InvoiceDate.unique())"
   ]
  },
  {
   "cell_type": "markdown",
   "id": "mathematical-audience",
   "metadata": {
    "papermill": {
     "duration": 0.029248,
     "end_time": "2021-05-28T17:58:27.995026",
     "exception": false,
     "start_time": "2021-05-28T17:58:27.965778",
     "status": "completed"
    },
    "tags": []
   },
   "source": [
    "Based on the analysis above, invoice number is uniquely related to the invoice date (within a sec or so)."
   ]
  },
  {
   "cell_type": "markdown",
   "id": "encouraging-blowing",
   "metadata": {
    "papermill": {
     "duration": 0.02878,
     "end_time": "2021-05-28T17:58:28.052779",
     "exception": false,
     "start_time": "2021-05-28T17:58:28.023999",
     "status": "completed"
    },
    "tags": []
   },
   "source": [
    "**Preprocessing - imputing, removing nulls and duplicates**"
   ]
  },
  {
   "cell_type": "code",
   "execution_count": 13,
   "id": "brief-reproduction",
   "metadata": {
    "execution": {
     "iopub.execute_input": "2021-05-28T17:58:28.115225Z",
     "iopub.status.busy": "2021-05-28T17:58:28.114645Z",
     "iopub.status.idle": "2021-05-28T17:58:28.151170Z",
     "shell.execute_reply": "2021-05-28T17:58:28.150644Z",
     "shell.execute_reply.started": "2021-05-28T13:33:10.582595Z"
    },
    "papermill": {
     "duration": 0.070009,
     "end_time": "2021-05-28T17:58:28.151305",
     "exception": false,
     "start_time": "2021-05-28T17:58:28.081296",
     "status": "completed"
    },
    "tags": []
   },
   "outputs": [],
   "source": [
    "df = dat.copy()"
   ]
  },
  {
   "cell_type": "code",
   "execution_count": 14,
   "id": "supreme-angola",
   "metadata": {
    "execution": {
     "iopub.execute_input": "2021-05-28T17:58:28.222408Z",
     "iopub.status.busy": "2021-05-28T17:58:28.221802Z",
     "iopub.status.idle": "2021-05-28T17:58:28.858256Z",
     "shell.execute_reply": "2021-05-28T17:58:28.857758Z",
     "shell.execute_reply.started": "2021-05-28T13:33:10.623459Z"
    },
    "papermill": {
     "duration": 0.677038,
     "end_time": "2021-05-28T17:58:28.858408",
     "exception": false,
     "start_time": "2021-05-28T17:58:28.181370",
     "status": "completed"
    },
    "tags": []
   },
   "outputs": [],
   "source": [
    "# Imput on Description based on StockCode - although I don't intend to use Description in any analysis\n",
    "# xx = lambda x : x.mode().iloc[0]\n",
    "# xxx = df.groupby(['StockCode']).apply(xx)\n",
    "temp1 = df.groupby('StockCode').Description.agg(pd.Series.mode).to_frame()\n",
    "df[\"Description\"].fillna(lambda x: temp1.loc[x][\"Description\"],inplace=True)"
   ]
  },
  {
   "cell_type": "code",
   "execution_count": 15,
   "id": "looking-adapter",
   "metadata": {
    "execution": {
     "iopub.execute_input": "2021-05-28T17:58:28.919085Z",
     "iopub.status.busy": "2021-05-28T17:58:28.918563Z",
     "iopub.status.idle": "2021-05-28T17:58:28.921557Z",
     "shell.execute_reply": "2021-05-28T17:58:28.921081Z",
     "shell.execute_reply.started": "2021-05-28T13:33:11.462416Z"
    },
    "papermill": {
     "duration": 0.034757,
     "end_time": "2021-05-28T17:58:28.921674",
     "exception": false,
     "start_time": "2021-05-28T17:58:28.886917",
     "status": "completed"
    },
    "tags": []
   },
   "outputs": [],
   "source": [
    "# temp = df.sample(5)\n",
    "# print(temp.Description)\n",
    "# print(dat.loc[temp.index][\"Description\"])"
   ]
  },
  {
   "cell_type": "code",
   "execution_count": 16,
   "id": "adolescent-concord",
   "metadata": {
    "execution": {
     "iopub.execute_input": "2021-05-28T17:58:29.078331Z",
     "iopub.status.busy": "2021-05-28T17:58:29.077315Z",
     "iopub.status.idle": "2021-05-28T17:58:29.094703Z",
     "shell.execute_reply": "2021-05-28T17:58:29.094232Z",
     "shell.execute_reply.started": "2021-05-28T13:33:11.466489Z"
    },
    "papermill": {
     "duration": 0.144789,
     "end_time": "2021-05-28T17:58:29.094832",
     "exception": false,
     "start_time": "2021-05-28T17:58:28.950043",
     "status": "completed"
    },
    "tags": []
   },
   "outputs": [
    {
     "name": "stdout",
     "output_type": "stream",
     "text": [
      "<class 'pandas.core.frame.DataFrame'>\n",
      "RangeIndex: 541909 entries, 0 to 541908\n",
      "Data columns (total 8 columns):\n",
      " #   Column       Non-Null Count   Dtype  \n",
      "---  ------       --------------   -----  \n",
      " 0   InvoiceNo    541909 non-null  object \n",
      " 1   StockCode    541909 non-null  object \n",
      " 2   Description  541909 non-null  object \n",
      " 3   Quantity     541909 non-null  int64  \n",
      " 4   InvoiceDate  541909 non-null  object \n",
      " 5   UnitPrice    541909 non-null  float64\n",
      " 6   CustomerID   406829 non-null  float64\n",
      " 7   Country      541909 non-null  object \n",
      "dtypes: float64(2), int64(1), object(5)\n",
      "memory usage: 33.1+ MB\n"
     ]
    }
   ],
   "source": [
    "df.info()"
   ]
  },
  {
   "cell_type": "code",
   "execution_count": 17,
   "id": "applicable-direction",
   "metadata": {
    "execution": {
     "iopub.execute_input": "2021-05-28T17:58:29.158527Z",
     "iopub.status.busy": "2021-05-28T17:58:29.157631Z",
     "iopub.status.idle": "2021-05-28T17:58:29.257546Z",
     "shell.execute_reply": "2021-05-28T17:58:29.256781Z",
     "shell.execute_reply.started": "2021-05-28T13:33:11.730723Z"
    },
    "papermill": {
     "duration": 0.133644,
     "end_time": "2021-05-28T17:58:29.257676",
     "exception": false,
     "start_time": "2021-05-28T17:58:29.124032",
     "status": "completed"
    },
    "tags": []
   },
   "outputs": [
    {
     "name": "stdout",
     "output_type": "stream",
     "text": [
      "135080 3710\n",
      "406829 22190\n",
      "Common InvoiceNo between rows that have CustomerId and those that do not []\n"
     ]
    }
   ],
   "source": [
    "lofInvoiceNo_NoCustID = list(set(df[df.CustomerID.isnull()].InvoiceNo))\n",
    "print(df.CustomerID.isnull().sum(),len(lofInvoiceNo_NoCustID))\n",
    "\n",
    "lofInvoiceNo_CustID = list(set(df[df.CustomerID.notnull()].InvoiceNo))\n",
    "print(df.CustomerID.notnull().sum(),len(lofInvoiceNo_CustID))\n",
    "\n",
    "print('Common InvoiceNo between rows that have CustomerId and those that do not', \n",
    "      list(set(lofInvoiceNo_NoCustID) & set(lofInvoiceNo_CustID)))       "
   ]
  },
  {
   "cell_type": "markdown",
   "id": "sacred-japan",
   "metadata": {
    "papermill": {
     "duration": 0.028912,
     "end_time": "2021-05-28T17:58:29.315689",
     "exception": false,
     "start_time": "2021-05-28T17:58:29.286777",
     "status": "completed"
    },
    "tags": []
   },
   "source": [
    "Since there is no obvious way to imput missing CustomerID from the data, best option available seems to be to drop these rows."
   ]
  },
  {
   "cell_type": "code",
   "execution_count": 18,
   "id": "intensive-marijuana",
   "metadata": {
    "execution": {
     "iopub.execute_input": "2021-05-28T17:58:29.378794Z",
     "iopub.status.busy": "2021-05-28T17:58:29.378243Z",
     "iopub.status.idle": "2021-05-28T17:58:29.735233Z",
     "shell.execute_reply": "2021-05-28T17:58:29.735760Z",
     "shell.execute_reply.started": "2021-05-28T13:33:11.853245Z"
    },
    "papermill": {
     "duration": 0.391016,
     "end_time": "2021-05-28T17:58:29.735919",
     "exception": false,
     "start_time": "2021-05-28T17:58:29.344903",
     "status": "completed"
    },
    "tags": []
   },
   "outputs": [],
   "source": [
    "df.dropna(axis=0, inplace=True)\n",
    "df.drop_duplicates(inplace=True)"
   ]
  },
  {
   "cell_type": "code",
   "execution_count": 19,
   "id": "cardiac-compilation",
   "metadata": {
    "execution": {
     "iopub.execute_input": "2021-05-28T17:58:29.798628Z",
     "iopub.status.busy": "2021-05-28T17:58:29.797996Z",
     "iopub.status.idle": "2021-05-28T17:58:29.883771Z",
     "shell.execute_reply": "2021-05-28T17:58:29.884425Z",
     "shell.execute_reply.started": "2021-05-28T13:33:12.398847Z"
    },
    "papermill": {
     "duration": 0.119848,
     "end_time": "2021-05-28T17:58:29.884676",
     "exception": false,
     "start_time": "2021-05-28T17:58:29.764828",
     "status": "completed"
    },
    "tags": []
   },
   "outputs": [
    {
     "name": "stdout",
     "output_type": "stream",
     "text": [
      "<class 'pandas.core.frame.DataFrame'>\n",
      "Int64Index: 401604 entries, 0 to 541908\n",
      "Data columns (total 8 columns):\n",
      " #   Column       Non-Null Count   Dtype  \n",
      "---  ------       --------------   -----  \n",
      " 0   InvoiceNo    401604 non-null  object \n",
      " 1   StockCode    401604 non-null  object \n",
      " 2   Description  401604 non-null  object \n",
      " 3   Quantity     401604 non-null  int64  \n",
      " 4   InvoiceDate  401604 non-null  object \n",
      " 5   UnitPrice    401604 non-null  float64\n",
      " 6   CustomerID   401604 non-null  float64\n",
      " 7   Country      401604 non-null  object \n",
      "dtypes: float64(2), int64(1), object(5)\n",
      "memory usage: 27.6+ MB\n"
     ]
    }
   ],
   "source": [
    "df.info()"
   ]
  },
  {
   "cell_type": "code",
   "execution_count": 20,
   "id": "grave-blood",
   "metadata": {
    "execution": {
     "iopub.execute_input": "2021-05-28T17:58:29.951155Z",
     "iopub.status.busy": "2021-05-28T17:58:29.950553Z",
     "iopub.status.idle": "2021-05-28T17:58:30.057554Z",
     "shell.execute_reply": "2021-05-28T17:58:30.057974Z",
     "shell.execute_reply.started": "2021-05-28T13:33:12.592094Z"
    },
    "papermill": {
     "duration": 0.143182,
     "end_time": "2021-05-28T17:58:30.058145",
     "exception": false,
     "start_time": "2021-05-28T17:58:29.914963",
     "status": "completed"
    },
    "tags": []
   },
   "outputs": [
    {
     "name": "stdout",
     "output_type": "stream",
     "text": [
      "all cancelled orders have negative quantities and corresponding InvoiceNo contains a C\n",
      "all successful orders have positive quantities and InvoiceNo is all digits\n",
      "3654 orders were canceled out of 22190 total orders (16.5%)\n"
     ]
    }
   ],
   "source": [
    "locancelledInvoice = df[df.Quantity < 0].InvoiceNo.unique()\n",
    "locompletedInvoice = df[df.Quantity >= 0].InvoiceNo.unique()\n",
    "# all cancelled orders have negative quantities ad InvoiceNo contains a C\n",
    "if len(set([\"C\" in l for l in locancelledInvoice])) == 1:\n",
    "    print(\"all cancelled orders have negative quantities and corresponding InvoiceNo contains a C\")\n",
    "    \n",
    "    \n",
    "if len(set([\"C\" in l for l in locompletedInvoice])) == 1:\n",
    "    print(\"all successful orders have positive quantities and InvoiceNo is all digits\")\n",
    "    \n",
    "n_cancelInvoice = len(locancelledInvoice)\n",
    "n_completeInvoice = len(locompletedInvoice)\n",
    "print(\"{} orders were canceled out of {} total orders ({:.1f}%)\".format(n_cancelInvoice,\n",
    "                                                                    n_completeInvoice+n_cancelInvoice, \n",
    "                                                                    n_cancelInvoice*100/(n_completeInvoice+n_cancelInvoice)))\n",
    "\n",
    "df[\"OrderStatus_\"]= \"Completed\"\n",
    "df.loc[df[df.Quantity < 0].index,\"OrderStatus_\"] = \"Cancellation\"\n"
   ]
  },
  {
   "cell_type": "code",
   "execution_count": 21,
   "id": "oriental-coral",
   "metadata": {
    "execution": {
     "iopub.execute_input": "2021-05-28T17:58:30.129089Z",
     "iopub.status.busy": "2021-05-28T17:58:30.128497Z",
     "iopub.status.idle": "2021-05-28T17:58:31.012641Z",
     "shell.execute_reply": "2021-05-28T17:58:31.012203Z",
     "shell.execute_reply.started": "2021-05-28T13:33:12.715705Z"
    },
    "papermill": {
     "duration": 0.924524,
     "end_time": "2021-05-28T17:58:31.012761",
     "exception": false,
     "start_time": "2021-05-28T17:58:30.088237",
     "status": "completed"
    },
    "tags": []
   },
   "outputs": [
    {
     "data": {
      "image/png": "[encoded data removed]",
      "text/plain": [
       "<Figure size 432x288 with 1 Axes>"
      ]
     },
     "metadata": {
      "needs_background": "light"
     },
     "output_type": "display_data"
    }
   ],
   "source": [
    "# checking to see if unit price per product is invariant over time\n",
    "temp = df.groupby([\"StockCode\"]).UnitPrice.agg(['count','mean','sum'])\n",
    "temp['Mean*Count'] = temp['mean']*temp['count']\n",
    "temp.plot(kind='scatter',x='Mean*Count',y='sum')\n",
    "plt.yscale('log')\n",
    "plt.xscale('log')\n",
    "plt.grid()"
   ]
  },
  {
   "cell_type": "code",
   "execution_count": 22,
   "id": "grand-chile",
   "metadata": {
    "execution": {
     "iopub.execute_input": "2021-05-28T17:58:31.078895Z",
     "iopub.status.busy": "2021-05-28T17:58:31.078336Z",
     "iopub.status.idle": "2021-05-28T17:58:31.260343Z",
     "shell.execute_reply": "2021-05-28T17:58:31.259791Z",
     "shell.execute_reply.started": "2021-05-28T13:33:13.83489Z"
    },
    "papermill": {
     "duration": 0.217208,
     "end_time": "2021-05-28T17:58:31.260470",
     "exception": false,
     "start_time": "2021-05-28T17:58:31.043262",
     "status": "completed"
    },
    "tags": []
   },
   "outputs": [],
   "source": [
    "df['Value_'] = df['Quantity']*df['UnitPrice']\n",
    "df.groupby([\"StockCode\"])['Value_'].agg([np.sum]).tail(8).index\n",
    "# Mark rows that have transactions \"'BANK CHARGES', 'C2', 'CRUK', 'D', 'DOT', 'M', 'PADS', 'POST'\" as \"Exclude\"\n",
    "df[\"Exclude_\"] = \"False\"\n",
    "df.loc[df[df.StockCode.isin(df.groupby([\"StockCode\"])['Value_'].agg([np.sum]).tail(8).index)].index,\"Exclude_\"] = \"True\""
   ]
  },
  {
   "cell_type": "code",
   "execution_count": 23,
   "id": "improving-tragedy",
   "metadata": {
    "execution": {
     "iopub.execute_input": "2021-05-28T17:58:31.325190Z",
     "iopub.status.busy": "2021-05-28T17:58:31.324592Z",
     "iopub.status.idle": "2021-05-28T17:58:31.341140Z",
     "shell.execute_reply": "2021-05-28T17:58:31.340637Z",
     "shell.execute_reply.started": "2021-05-28T13:33:14.045597Z"
    },
    "papermill": {
     "duration": 0.050524,
     "end_time": "2021-05-28T17:58:31.341269",
     "exception": false,
     "start_time": "2021-05-28T17:58:31.290745",
     "status": "completed"
    },
    "tags": []
   },
   "outputs": [],
   "source": [
    "# Convert returned negative quantity to postivie for analysis\n",
    "df['PQuantity_'] = df['Quantity']\n",
    "df.loc[df[df.Quantity < 0].index, 'PQuantity_'] = df.Quantity*-1"
   ]
  },
  {
   "cell_type": "code",
   "execution_count": 24,
   "id": "optical-tackle",
   "metadata": {
    "execution": {
     "iopub.execute_input": "2021-05-28T17:58:31.405769Z",
     "iopub.status.busy": "2021-05-28T17:58:31.404919Z",
     "iopub.status.idle": "2021-05-28T17:58:33.046726Z",
     "shell.execute_reply": "2021-05-28T17:58:33.046133Z",
     "shell.execute_reply.started": "2021-05-28T13:33:14.069572Z"
    },
    "papermill": {
     "duration": 1.67525,
     "end_time": "2021-05-28T17:58:33.046854",
     "exception": false,
     "start_time": "2021-05-28T17:58:31.371604",
     "status": "completed"
    },
    "tags": []
   },
   "outputs": [],
   "source": [
    "df['Invoicedate_'] = pd.to_datetime(df['InvoiceDate'])"
   ]
  },
  {
   "cell_type": "code",
   "execution_count": 25,
   "id": "rocky-madrid",
   "metadata": {
    "execution": {
     "iopub.execute_input": "2021-05-28T17:58:33.116877Z",
     "iopub.status.busy": "2021-05-28T17:58:33.116279Z",
     "iopub.status.idle": "2021-05-28T18:02:34.164550Z",
     "shell.execute_reply": "2021-05-28T18:02:34.164969Z",
     "shell.execute_reply.started": "2021-05-28T13:33:16.130703Z"
    },
    "papermill": {
     "duration": 241.087442,
     "end_time": "2021-05-28T18:02:34.165151",
     "exception": false,
     "start_time": "2021-05-28T17:58:33.077709",
     "status": "completed"
    },
    "tags": []
   },
   "outputs": [
    {
     "name": "stdout",
     "output_type": "stream",
     "text": [
      "Completed ... 6%\n",
      "Completed ... 11%\n",
      "Completed ... 17%\n",
      "Completed ... 23%\n",
      "Completed ... 28%\n",
      "Completed ... 34%\n",
      "Completed ... 39%\n",
      "Completed ... 45%\n",
      "Completed ... 51%\n",
      "Completed ... 56%\n",
      "Completed ... 62%\n",
      "Completed ... 68%\n",
      "Completed ... 73%\n",
      "Completed ... 79%\n",
      "Completed ... 85%\n",
      "Completed ... 90%\n",
      "Completed ... 96%\n",
      "Elapsed time (s) =  240.6102945804596\n"
     ]
    }
   ],
   "source": [
    "df['OrderInvoiceNo_'] = ''\n",
    "# df['CancelledAfterDays_'] = ''\n",
    "temp = df[df['OrderStatus_'].str.contains(\"Cancellation\")].copy()\n",
    "ttemp = df[~df['OrderStatus_'].str.contains(\"Cancellation\")].copy()\n",
    "\n",
    "import time\n",
    "st = time.time()\n",
    "count = 0\n",
    "for idx,row in temp.sort_values(by='PQuantity_',ascending=False).iterrows():  \n",
    "    bl1 = (ttemp.CustomerID == row.CustomerID) & (ttemp.StockCode == row.StockCode) \n",
    "    bl2 = (ttemp.PQuantity_ >= row.PQuantity_) & (ttemp.Invoicedate_ < row.Invoicedate_)\n",
    "    stemp = ttemp[bl1 & bl2].copy()\n",
    "    if stemp.shape[0] == 1:\n",
    "        if stemp.iloc[0]['PQuantity_'] == row.PQuantity_:\n",
    "            temp.loc[idx,'OrderInvoiceNo_'] = stemp.iloc[0].InvoiceNo\n",
    "        else:\n",
    "            temp.loc[idx,'OrderInvoiceNo_'] = stemp.iloc[0].InvoiceNo\n",
    "            temp.loc[idx, 'OrderStatus_'] = 'PartialReturn'\n",
    "    else:            \n",
    "        temp.loc[idx, 'OrderStatus_'] = 'NoCorrOrder'  \n",
    "    count += 1\n",
    "    if count%500 == 0:\n",
    "        print('Completed ... {:.0f}%'.format(count/temp.shape[0]*100))\n",
    "en = time.time()\n",
    "print(\"Elapsed time (s) = \",en-st)\n",
    "# takes about 10 min"
   ]
  },
  {
   "cell_type": "code",
   "execution_count": 26,
   "id": "coated-asthma",
   "metadata": {
    "execution": {
     "iopub.execute_input": "2021-05-28T18:02:34.236493Z",
     "iopub.status.busy": "2021-05-28T18:02:34.235909Z",
     "iopub.status.idle": "2021-05-28T18:02:34.293443Z",
     "shell.execute_reply": "2021-05-28T18:02:34.292939Z",
     "shell.execute_reply.started": "2021-05-28T13:41:57.41772Z"
    },
    "papermill": {
     "duration": 0.094767,
     "end_time": "2021-05-28T18:02:34.293572",
     "exception": false,
     "start_time": "2021-05-28T18:02:34.198805",
     "status": "completed"
    },
    "tags": []
   },
   "outputs": [],
   "source": [
    "df.loc[temp.index] = temp"
   ]
  },
  {
   "cell_type": "code",
   "execution_count": 27,
   "id": "recognized-completion",
   "metadata": {
    "execution": {
     "iopub.execute_input": "2021-05-28T18:02:34.366146Z",
     "iopub.status.busy": "2021-05-28T18:02:34.365611Z",
     "iopub.status.idle": "2021-05-28T18:02:34.495554Z",
     "shell.execute_reply": "2021-05-28T18:02:34.494982Z",
     "shell.execute_reply.started": "2021-05-28T13:41:57.479715Z"
    },
    "papermill": {
     "duration": 0.168105,
     "end_time": "2021-05-28T18:02:34.495677",
     "exception": false,
     "start_time": "2021-05-28T18:02:34.327572",
     "status": "completed"
    },
    "tags": []
   },
   "outputs": [
    {
     "name": "stdout",
     "output_type": "stream",
     "text": [
      "<class 'pandas.core.frame.DataFrame'>\n",
      "Int64Index: 401604 entries, 0 to 541908\n",
      "Data columns (total 14 columns):\n",
      " #   Column           Non-Null Count   Dtype         \n",
      "---  ------           --------------   -----         \n",
      " 0   InvoiceNo        401604 non-null  object        \n",
      " 1   StockCode        401604 non-null  object        \n",
      " 2   Description      401604 non-null  object        \n",
      " 3   Quantity         401604 non-null  int64         \n",
      " 4   InvoiceDate      401604 non-null  object        \n",
      " 5   UnitPrice        401604 non-null  float64       \n",
      " 6   CustomerID       401604 non-null  float64       \n",
      " 7   Country          401604 non-null  object        \n",
      " 8   OrderStatus_     401604 non-null  object        \n",
      " 9   Value_           401604 non-null  float64       \n",
      " 10  Exclude_         401604 non-null  object        \n",
      " 11  PQuantity_       401604 non-null  int64         \n",
      " 12  Invoicedate_     401604 non-null  datetime64[ns]\n",
      " 13  OrderInvoiceNo_  401604 non-null  object        \n",
      "dtypes: datetime64[ns](1), float64(3), int64(2), object(8)\n",
      "memory usage: 54.0+ MB\n"
     ]
    }
   ],
   "source": [
    "df.info()"
   ]
  },
  {
   "cell_type": "code",
   "execution_count": 28,
   "id": "sitting-radiation",
   "metadata": {
    "execution": {
     "iopub.execute_input": "2021-05-28T18:02:34.568923Z",
     "iopub.status.busy": "2021-05-28T18:02:34.568367Z",
     "iopub.status.idle": "2021-05-28T18:02:34.750460Z",
     "shell.execute_reply": "2021-05-28T18:02:34.749922Z",
     "shell.execute_reply.started": "2021-05-28T13:41:57.779466Z"
    },
    "papermill": {
     "duration": 0.220785,
     "end_time": "2021-05-28T18:02:34.750589",
     "exception": false,
     "start_time": "2021-05-28T18:02:34.529804",
     "status": "completed"
    },
    "tags": []
   },
   "outputs": [
    {
     "data": {
      "text/html": [
       "<div>\n",
       "<style scoped>\n",
       "    .dataframe tbody tr th:only-of-type {\n",
       "        vertical-align: middle;\n",
       "    }\n",
       "\n",
       "    .dataframe tbody tr th {\n",
       "        vertical-align: top;\n",
       "    }\n",
       "\n",
       "    .dataframe thead th {\n",
       "        text-align: right;\n",
       "    }\n",
       "</style>\n",
       "<table border=\"1\" class=\"dataframe\">\n",
       "  <thead>\n",
       "    <tr style=\"text-align: right;\">\n",
       "      <th></th>\n",
       "      <th>InvoiceNo</th>\n",
       "      <th>StockCode</th>\n",
       "      <th>Description</th>\n",
       "      <th>Quantity</th>\n",
       "      <th>InvoiceDate</th>\n",
       "      <th>UnitPrice</th>\n",
       "      <th>CustomerID</th>\n",
       "      <th>Country</th>\n",
       "      <th>OrderStatus_</th>\n",
       "      <th>Value_</th>\n",
       "      <th>Exclude_</th>\n",
       "      <th>PQuantity_</th>\n",
       "      <th>Invoicedate_</th>\n",
       "      <th>OrderInvoiceNo_</th>\n",
       "      <th>Month_</th>\n",
       "      <th>Year_</th>\n",
       "      <th>Day_</th>\n",
       "      <th>Time_</th>\n",
       "    </tr>\n",
       "  </thead>\n",
       "  <tbody>\n",
       "    <tr>\n",
       "      <th>207996</th>\n",
       "      <td>555076</td>\n",
       "      <td>23298</td>\n",
       "      <td>SPOTTY BUNTING</td>\n",
       "      <td>3</td>\n",
       "      <td>5/31/2011 12:11</td>\n",
       "      <td>5.0</td>\n",
       "      <td>13900.0</td>\n",
       "      <td>United Kingdom</td>\n",
       "      <td>Completed</td>\n",
       "      <td>14.9</td>\n",
       "      <td>False</td>\n",
       "      <td>3</td>\n",
       "      <td>2011-05-31 12:11:00</td>\n",
       "      <td></td>\n",
       "      <td>5</td>\n",
       "      <td>2011</td>\n",
       "      <td>31</td>\n",
       "      <td>12</td>\n",
       "    </tr>\n",
       "    <tr>\n",
       "      <th>96466</th>\n",
       "      <td>544569</td>\n",
       "      <td>22961</td>\n",
       "      <td>JAM MAKING SET PRINTED</td>\n",
       "      <td>2</td>\n",
       "      <td>2/21/2011 12:58</td>\n",
       "      <td>1.4</td>\n",
       "      <td>16980.0</td>\n",
       "      <td>United Kingdom</td>\n",
       "      <td>Completed</td>\n",
       "      <td>2.9</td>\n",
       "      <td>False</td>\n",
       "      <td>2</td>\n",
       "      <td>2011-02-21 12:58:00</td>\n",
       "      <td></td>\n",
       "      <td>2</td>\n",
       "      <td>2011</td>\n",
       "      <td>21</td>\n",
       "      <td>12</td>\n",
       "    </tr>\n",
       "    <tr>\n",
       "      <th>252645</th>\n",
       "      <td>559133</td>\n",
       "      <td>23121</td>\n",
       "      <td>PACK OF 6 COCKTAIL PARASOL STRAWS</td>\n",
       "      <td>7</td>\n",
       "      <td>7/6/2011 13:13</td>\n",
       "      <td>0.4</td>\n",
       "      <td>17861.0</td>\n",
       "      <td>United Kingdom</td>\n",
       "      <td>Completed</td>\n",
       "      <td>2.9</td>\n",
       "      <td>False</td>\n",
       "      <td>7</td>\n",
       "      <td>2011-07-06 13:13:00</td>\n",
       "      <td></td>\n",
       "      <td>7</td>\n",
       "      <td>2011</td>\n",
       "      <td>6</td>\n",
       "      <td>13</td>\n",
       "    </tr>\n",
       "    <tr>\n",
       "      <th>444909</th>\n",
       "      <td>574741</td>\n",
       "      <td>21871</td>\n",
       "      <td>SAVE THE PLANET MUG</td>\n",
       "      <td>2</td>\n",
       "      <td>11/6/2011 16:13</td>\n",
       "      <td>1.6</td>\n",
       "      <td>15993.0</td>\n",
       "      <td>United Kingdom</td>\n",
       "      <td>Completed</td>\n",
       "      <td>3.3</td>\n",
       "      <td>False</td>\n",
       "      <td>2</td>\n",
       "      <td>2011-11-06 16:13:00</td>\n",
       "      <td></td>\n",
       "      <td>11</td>\n",
       "      <td>2011</td>\n",
       "      <td>6</td>\n",
       "      <td>16</td>\n",
       "    </tr>\n",
       "    <tr>\n",
       "      <th>387455</th>\n",
       "      <td>570289</td>\n",
       "      <td>23298</td>\n",
       "      <td>SPOTTY BUNTING</td>\n",
       "      <td>2</td>\n",
       "      <td>10/10/2011 11:50</td>\n",
       "      <td>5.0</td>\n",
       "      <td>17377.0</td>\n",
       "      <td>United Kingdom</td>\n",
       "      <td>Completed</td>\n",
       "      <td>9.9</td>\n",
       "      <td>False</td>\n",
       "      <td>2</td>\n",
       "      <td>2011-10-10 11:50:00</td>\n",
       "      <td></td>\n",
       "      <td>10</td>\n",
       "      <td>2011</td>\n",
       "      <td>10</td>\n",
       "      <td>11</td>\n",
       "    </tr>\n",
       "    <tr>\n",
       "      <th>242286</th>\n",
       "      <td>558330</td>\n",
       "      <td>21524</td>\n",
       "      <td>DOORMAT SPOTTY HOME SWEET HOME</td>\n",
       "      <td>1</td>\n",
       "      <td>6/28/2011 12:16</td>\n",
       "      <td>8.0</td>\n",
       "      <td>12748.0</td>\n",
       "      <td>United Kingdom</td>\n",
       "      <td>Completed</td>\n",
       "      <td>8.0</td>\n",
       "      <td>False</td>\n",
       "      <td>1</td>\n",
       "      <td>2011-06-28 12:16:00</td>\n",
       "      <td></td>\n",
       "      <td>6</td>\n",
       "      <td>2011</td>\n",
       "      <td>28</td>\n",
       "      <td>12</td>\n",
       "    </tr>\n",
       "    <tr>\n",
       "      <th>312614</th>\n",
       "      <td>564359</td>\n",
       "      <td>22551</td>\n",
       "      <td>PLASTERS IN TIN SPACEBOY</td>\n",
       "      <td>3</td>\n",
       "      <td>8/24/2011 16:02</td>\n",
       "      <td>1.6</td>\n",
       "      <td>14056.0</td>\n",
       "      <td>United Kingdom</td>\n",
       "      <td>Completed</td>\n",
       "      <td>4.9</td>\n",
       "      <td>False</td>\n",
       "      <td>3</td>\n",
       "      <td>2011-08-24 16:02:00</td>\n",
       "      <td></td>\n",
       "      <td>8</td>\n",
       "      <td>2011</td>\n",
       "      <td>24</td>\n",
       "      <td>16</td>\n",
       "    </tr>\n",
       "    <tr>\n",
       "      <th>307411</th>\n",
       "      <td>563917</td>\n",
       "      <td>23245</td>\n",
       "      <td>SET OF 3 REGENCY CAKE TINS</td>\n",
       "      <td>4</td>\n",
       "      <td>8/21/2011 13:46</td>\n",
       "      <td>5.0</td>\n",
       "      <td>14572.0</td>\n",
       "      <td>United Kingdom</td>\n",
       "      <td>Completed</td>\n",
       "      <td>19.8</td>\n",
       "      <td>False</td>\n",
       "      <td>4</td>\n",
       "      <td>2011-08-21 13:46:00</td>\n",
       "      <td></td>\n",
       "      <td>8</td>\n",
       "      <td>2011</td>\n",
       "      <td>21</td>\n",
       "      <td>13</td>\n",
       "    </tr>\n",
       "    <tr>\n",
       "      <th>149119</th>\n",
       "      <td>549277</td>\n",
       "      <td>22916</td>\n",
       "      <td>HERB MARKER THYME</td>\n",
       "      <td>1</td>\n",
       "      <td>4/7/2011 13:11</td>\n",
       "      <td>0.7</td>\n",
       "      <td>16469.0</td>\n",
       "      <td>United Kingdom</td>\n",
       "      <td>Completed</td>\n",
       "      <td>0.7</td>\n",
       "      <td>False</td>\n",
       "      <td>1</td>\n",
       "      <td>2011-04-07 13:11:00</td>\n",
       "      <td></td>\n",
       "      <td>4</td>\n",
       "      <td>2011</td>\n",
       "      <td>7</td>\n",
       "      <td>13</td>\n",
       "    </tr>\n",
       "    <tr>\n",
       "      <th>448283</th>\n",
       "      <td>C575042</td>\n",
       "      <td>22327</td>\n",
       "      <td>ROUND SNACK BOXES SET OF 4 SKULLS</td>\n",
       "      <td>-1</td>\n",
       "      <td>11/8/2011 12:05</td>\n",
       "      <td>3.0</td>\n",
       "      <td>16764.0</td>\n",
       "      <td>United Kingdom</td>\n",
       "      <td>PartialReturn</td>\n",
       "      <td>-3.0</td>\n",
       "      <td>False</td>\n",
       "      <td>1</td>\n",
       "      <td>2011-11-08 12:05:00</td>\n",
       "      <td>570088</td>\n",
       "      <td>11</td>\n",
       "      <td>2011</td>\n",
       "      <td>8</td>\n",
       "      <td>12</td>\n",
       "    </tr>\n",
       "  </tbody>\n",
       "</table>\n",
       "</div>"
      ],
      "text/plain": [
       "       InvoiceNo StockCode                        Description  Quantity  \\\n",
       "207996    555076     23298                     SPOTTY BUNTING         3   \n",
       "96466     544569     22961             JAM MAKING SET PRINTED         2   \n",
       "252645    559133     23121  PACK OF 6 COCKTAIL PARASOL STRAWS         7   \n",
       "444909    574741     21871                SAVE THE PLANET MUG         2   \n",
       "387455    570289     23298                     SPOTTY BUNTING         2   \n",
       "242286    558330     21524     DOORMAT SPOTTY HOME SWEET HOME         1   \n",
       "312614    564359     22551           PLASTERS IN TIN SPACEBOY         3   \n",
       "307411    563917     23245         SET OF 3 REGENCY CAKE TINS         4   \n",
       "149119    549277     22916                  HERB MARKER THYME         1   \n",
       "448283   C575042     22327  ROUND SNACK BOXES SET OF 4 SKULLS        -1   \n",
       "\n",
       "             InvoiceDate  UnitPrice  CustomerID         Country  \\\n",
       "207996   5/31/2011 12:11        5.0     13900.0  United Kingdom   \n",
       "96466    2/21/2011 12:58        1.4     16980.0  United Kingdom   \n",
       "252645    7/6/2011 13:13        0.4     17861.0  United Kingdom   \n",
       "444909   11/6/2011 16:13        1.6     15993.0  United Kingdom   \n",
       "387455  10/10/2011 11:50        5.0     17377.0  United Kingdom   \n",
       "242286   6/28/2011 12:16        8.0     12748.0  United Kingdom   \n",
       "312614   8/24/2011 16:02        1.6     14056.0  United Kingdom   \n",
       "307411   8/21/2011 13:46        5.0     14572.0  United Kingdom   \n",
       "149119    4/7/2011 13:11        0.7     16469.0  United Kingdom   \n",
       "448283   11/8/2011 12:05        3.0     16764.0  United Kingdom   \n",
       "\n",
       "         OrderStatus_  Value_ Exclude_  PQuantity_        Invoicedate_  \\\n",
       "207996      Completed    14.9    False           3 2011-05-31 12:11:00   \n",
       "96466       Completed     2.9    False           2 2011-02-21 12:58:00   \n",
       "252645      Completed     2.9    False           7 2011-07-06 13:13:00   \n",
       "444909      Completed     3.3    False           2 2011-11-06 16:13:00   \n",
       "387455      Completed     9.9    False           2 2011-10-10 11:50:00   \n",
       "242286      Completed     8.0    False           1 2011-06-28 12:16:00   \n",
       "312614      Completed     4.9    False           3 2011-08-24 16:02:00   \n",
       "307411      Completed    19.8    False           4 2011-08-21 13:46:00   \n",
       "149119      Completed     0.7    False           1 2011-04-07 13:11:00   \n",
       "448283  PartialReturn    -3.0    False           1 2011-11-08 12:05:00   \n",
       "\n",
       "       OrderInvoiceNo_  Month_  Year_  Day_  Time_  \n",
       "207996                       5   2011    31     12  \n",
       "96466                        2   2011    21     12  \n",
       "252645                       7   2011     6     13  \n",
       "444909                      11   2011     6     16  \n",
       "387455                      10   2011    10     11  \n",
       "242286                       6   2011    28     12  \n",
       "312614                       8   2011    24     16  \n",
       "307411                       8   2011    21     13  \n",
       "149119                       4   2011     7     13  \n",
       "448283          570088      11   2011     8     12  "
      ]
     },
     "execution_count": 28,
     "metadata": {},
     "output_type": "execute_result"
    }
   ],
   "source": [
    "df['Month_'] = pd.DatetimeIndex(df.Invoicedate_).month\n",
    "df['Year_']= pd.DatetimeIndex(df.Invoicedate_).year\n",
    "df['Day_']= pd.DatetimeIndex(df.Invoicedate_).day\n",
    "df['Time_']=pd.DatetimeIndex(df.Invoicedate_).hour\n",
    "df.sample(10)"
   ]
  },
  {
   "cell_type": "markdown",
   "id": "canadian-transparency",
   "metadata": {
    "papermill": {
     "duration": 0.034352,
     "end_time": "2021-05-28T18:02:34.819661",
     "exception": false,
     "start_time": "2021-05-28T18:02:34.785309",
     "status": "completed"
    },
    "tags": []
   },
   "source": [
    "# Analysis of the prepared data"
   ]
  },
  {
   "cell_type": "markdown",
   "id": "handmade-mother",
   "metadata": {
    "papermill": {
     "duration": 0.034563,
     "end_time": "2021-05-28T18:02:34.889240",
     "exception": false,
     "start_time": "2021-05-28T18:02:34.854677",
     "status": "completed"
    },
    "tags": []
   },
   "source": [
    "**Order Analysis**"
   ]
  },
  {
   "cell_type": "code",
   "execution_count": 29,
   "id": "patent-sudan",
   "metadata": {
    "execution": {
     "iopub.execute_input": "2021-05-28T18:02:34.962640Z",
     "iopub.status.busy": "2021-05-28T18:02:34.962071Z",
     "iopub.status.idle": "2021-05-28T18:02:34.965263Z",
     "shell.execute_reply": "2021-05-28T18:02:34.964709Z",
     "shell.execute_reply.started": "2021-05-28T13:41:57.975896Z"
    },
    "papermill": {
     "duration": 0.041586,
     "end_time": "2021-05-28T18:02:34.965388",
     "exception": false,
     "start_time": "2021-05-28T18:02:34.923802",
     "status": "completed"
    },
    "tags": []
   },
   "outputs": [],
   "source": [
    "import warnings\n",
    "warnings.filterwarnings('ignore')"
   ]
  }
 ],
 "metadata": {
  "kernelspec": {
   "display_name": "Python 3",
   "language": "python",
   "name": "python3"
  },
  "language_info": {
   "codemirror_mode": {
    "name": "ipython",
    "version": 3
   },
   "file_extension": ".py",
   "mimetype": "text/x-python",
   "name": "python",
   "nbconvert_exporter": "python",
   "pygments_lexer": "ipython3",
   "version": "3.7.10"
  },
  "papermill": {
   "default_parameters": {},
   "duration": 267.843465,
   "end_time": "2021-05-28T18:02:36.477076",
   "environment_variables": {},
   "exception": null,
   "input_path": "__notebook__.ipynb",
   "output_path": "__notebook__.ipynb",
   "parameters": {},
   "start_time": "2021-05-28T17:58:08.633611",
   "version": "2.3.3"
  }
 },
 "nbformat": 4,
 "nbformat_minor": 5
}
